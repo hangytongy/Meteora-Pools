{
 "cells": [
  {
   "cell_type": "code",
   "execution_count": 1,
   "id": "a4b43d19",
   "metadata": {},
   "outputs": [],
   "source": [
    "import requests\n",
    "import pandas as pd\n",
    "import json"
   ]
  },
  {
   "cell_type": "code",
   "execution_count": 10,
   "id": "f27b4f65",
   "metadata": {},
   "outputs": [],
   "source": [
    "def get_req():\n",
    "\n",
    "    url = 'https://dlmm-api.meteora.ag/pair/all_by_groups'\n",
    "\n",
    "    params = {\"sort_key\" : \"feetvlratio\", \"order_by\": 'desc'}\n",
    "\n",
    "    response = requests.get(url,params=params)\n",
    "    \n",
    "    return response"
   ]
  },
  {
   "cell_type": "code",
   "execution_count": 14,
   "id": "44806f7a",
   "metadata": {},
   "outputs": [],
   "source": [
    "def get_df(response):\n",
    "\n",
    "    df = pd.DataFrame()\n",
    "    for group in response.json()['groups']:\n",
    "        if df.empty:\n",
    "            df = pd.DataFrame(group)\n",
    "            df = pd.json_normalize(df['pairs'])\n",
    "        else:\n",
    "            df1 = pd.DataFrame(group)\n",
    "            df1 = pd.json_normalize(df1['pairs'])\n",
    "            df = pd.concat([df, df1])\n",
    "            \n",
    "    return df"
   ]
  },
  {
   "cell_type": "code",
   "execution_count": 17,
   "id": "be2c43de",
   "metadata": {},
   "outputs": [],
   "source": [
    "def get_pools(df):\n",
    "\n",
    "    df = df[['name','bin_step','base_fee_percentage','liquidity','trade_volume_24h','apr', 'apy']]\n",
    "\n",
    "    df['liquidity'] = df['liquidity'].astype(float)\n",
    "    df['apr'] = df['apr'].astype(float)\n",
    "\n",
    "    min_liquidity = 1000\n",
    "    min_apr = 30\n",
    "\n",
    "    cond1 = df['liquidity'] > min_liquidity\n",
    "    cond2 = df['apr'] > min_apr\n",
    "    df = df[cond1 & cond2]\n",
    "\n",
    "    df.sort_values(by='apr', inplace = True, ascending = False)\n",
    "    df.reset_index(drop = True, inplace=True)\n",
    "\n",
    "    print(df.head(15))"
   ]
  },
  {
   "cell_type": "code",
   "execution_count": 18,
   "id": "7b895a7c",
   "metadata": {},
   "outputs": [
    {
     "name": "stdout",
     "output_type": "stream",
     "text": [
      "              name  bin_step base_fee_percentage      liquidity  \\\n",
      "0         NEET-SOL       100                   2    1779.966212   \n",
      "1         NEET-SOL       250                   1    2156.293432   \n",
      "2         FWOG-SOL       100                   2    4632.444986   \n",
      "3   PUPPERFISH-SOL       100                   1    5336.409962   \n",
      "4       CHERRY-SOL       100                   5   11814.923407   \n",
      "5       Neiro-USDC       200                   1   11381.335945   \n",
      "6        Neiro-SOL       125                   1    6356.903208   \n",
      "7         FWOG-SOL       100                   1  185640.236101   \n",
      "8     MANIFEST-SOL        80                 0.2    1954.408851   \n",
      "9   PUPPERFISH-SOL        80                   5    9598.037486   \n",
      "10        SOL-FWOG       400                   1    7384.404181   \n",
      "11        FWOG-SOL       100                   5   38369.873820   \n",
      "12        SOL-FWOG       250                   2  137790.261554   \n",
      "\n",
      "    trade_volume_24h         apr           apy  \n",
      "0       1.801576e+05  334.133787  1.844674e+19  \n",
      "1       6.731988e+04  120.402820  1.844674e+19  \n",
      "2       1.750737e+05  119.344345  1.844674e+19  \n",
      "3       1.512731e+05   68.448143  1.844674e+19  \n",
      "4       1.102657e+05   62.347770  1.844674e+19  \n",
      "5       5.535823e+05   61.969049  1.844674e+19  \n",
      "6       2.640296e+05   57.293134  1.844674e+19  \n",
      "7       5.244978e+06   53.933305  1.844674e+19  \n",
      "8       1.474223e+05   50.545888  1.844674e+19  \n",
      "9       7.458865e+04   47.150632  1.844674e+19  \n",
      "10      2.111598e+05   45.304156  1.844674e+19  \n",
      "11      2.929593e+05   43.687344  1.844674e+19  \n",
      "12      2.080630e+06   40.831270  1.844674e+19  \n"
     ]
    },
    {
     "name": "stderr",
     "output_type": "stream",
     "text": [
      "C:\\Users\\might\\AppData\\Local\\Temp\\ipykernel_27296\\1974525312.py:5: SettingWithCopyWarning: \n",
      "A value is trying to be set on a copy of a slice from a DataFrame.\n",
      "Try using .loc[row_indexer,col_indexer] = value instead\n",
      "\n",
      "See the caveats in the documentation: https://pandas.pydata.org/pandas-docs/stable/user_guide/indexing.html#returning-a-view-versus-a-copy\n",
      "  df['liquidity'] = df['liquidity'].astype(float)\n",
      "C:\\Users\\might\\AppData\\Local\\Temp\\ipykernel_27296\\1974525312.py:6: SettingWithCopyWarning: \n",
      "A value is trying to be set on a copy of a slice from a DataFrame.\n",
      "Try using .loc[row_indexer,col_indexer] = value instead\n",
      "\n",
      "See the caveats in the documentation: https://pandas.pydata.org/pandas-docs/stable/user_guide/indexing.html#returning-a-view-versus-a-copy\n",
      "  df['apr'] = df['apr'].astype(float)\n"
     ]
    }
   ],
   "source": [
    "if __name__ == \"__main__\":\n",
    "    response = get_req()\n",
    "    \n",
    "    df = get_df(response)\n",
    "    \n",
    "    get_pools(df)"
   ]
  },
  {
   "cell_type": "code",
   "execution_count": null,
   "id": "0c919cd0",
   "metadata": {},
   "outputs": [],
   "source": []
  }
 ],
 "metadata": {
  "kernelspec": {
   "display_name": "Python 3 (ipykernel)",
   "language": "python",
   "name": "python3"
  },
  "language_info": {
   "codemirror_mode": {
    "name": "ipython",
    "version": 3
   },
   "file_extension": ".py",
   "mimetype": "text/x-python",
   "name": "python",
   "nbconvert_exporter": "python",
   "pygments_lexer": "ipython3",
   "version": "3.11.5"
  }
 },
 "nbformat": 4,
 "nbformat_minor": 5
}
